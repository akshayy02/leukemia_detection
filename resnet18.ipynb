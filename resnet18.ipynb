{
 "cells": [
  {
   "cell_type": "code",
   "execution_count": 1,
   "id": "97a787d0",
   "metadata": {
    "_cell_guid": "b1076dfc-b9ad-4769-8c92-a6c4dae69d19",
    "_uuid": "8f2839f25d086af736a60e9eeb907d3b93b6e0e5",
    "execution": {
     "iopub.execute_input": "2024-10-09T18:53:20.329665Z",
     "iopub.status.busy": "2024-10-09T18:53:20.329028Z",
     "iopub.status.idle": "2024-10-09T18:53:26.975455Z",
     "shell.execute_reply": "2024-10-09T18:53:26.974276Z"
    },
    "papermill": {
     "duration": 6.656944,
     "end_time": "2024-10-09T18:53:26.978433",
     "exception": false,
     "start_time": "2024-10-09T18:53:20.321489",
     "status": "completed"
    },
    "tags": []
   },
   "outputs": [],
   "source": [
    "import os\n",
    "import torch\n",
    "from torchvision import datasets, transforms\n",
    "from torch.utils.data import DataLoader, random_split, ConcatDataset\n",
    "import torchvision.models as models\n",
    "import torch.nn as nn\n",
    "\n",
    "from collections import Counter\n",
    "import random\n",
    "from sklearn.metrics import confusion_matrix, ConfusionMatrixDisplay\n",
    "import matplotlib.pyplot as plt\n",
    "import numpy as np\n",
    "import tqdm"
   ]
  },
  {
   "cell_type": "code",
   "execution_count": 2,
   "id": "bd520a46",
   "metadata": {
    "execution": {
     "iopub.execute_input": "2024-10-09T18:53:26.990827Z",
     "iopub.status.busy": "2024-10-09T18:53:26.990222Z",
     "iopub.status.idle": "2024-10-09T18:53:26.996036Z",
     "shell.execute_reply": "2024-10-09T18:53:26.994772Z"
    },
    "papermill": {
     "duration": 0.014822,
     "end_time": "2024-10-09T18:53:26.998449",
     "exception": false,
     "start_time": "2024-10-09T18:53:26.983627",
     "status": "completed"
    },
    "tags": []
   },
   "outputs": [],
   "source": [
    "import matplotlib.pyplot as plt\n"
   ]
  },
  {
   "cell_type": "code",
   "execution_count": 3,
   "id": "2d3ee3c7",
   "metadata": {
    "execution": {
     "iopub.execute_input": "2024-10-09T18:53:27.010493Z",
     "iopub.status.busy": "2024-10-09T18:53:27.010007Z",
     "iopub.status.idle": "2024-10-09T18:53:35.901269Z",
     "shell.execute_reply": "2024-10-09T18:53:35.899987Z"
    },
    "papermill": {
     "duration": 8.900829,
     "end_time": "2024-10-09T18:53:35.904231",
     "exception": false,
     "start_time": "2024-10-09T18:53:27.003402",
     "status": "completed"
    },
    "tags": []
   },
   "outputs": [],
   "source": [
    "# Define the transform\n",
    "transform = transforms.Compose([\n",
    "    transforms.Resize((224, 224)),  # Resize to a fixed size, if needed\n",
    "    transforms.ToTensor(),  # Convert PIL Image to tensor\n",
    "    transforms.Normalize(mean=[0.485, 0.456, 0.406], std=[0.229, 0.224, 0.225])  # Normalization\n",
    "])\n",
    "\n",
    "# Directories for the datasets\n",
    "fold_0_dir = '/kaggle/input/leukemia-classification/C-NMC_Leukemia/training_data/fold_0'\n",
    "fold_1_dir = '/kaggle/input/leukemia-classification/C-NMC_Leukemia/training_data/fold_1'\n",
    "fold_2_dir = '/kaggle/input/leukemia-classification/C-NMC_Leukemia/training_data/fold_2'\n",
    "\n",
    "# Load datasets for each fold\n",
    "fold_0_dataset = datasets.ImageFolder(root=fold_0_dir, transform=transform)\n",
    "fold_1_dataset = datasets.ImageFolder(root=fold_1_dir, transform=transform)\n",
    "fold_2_dataset = datasets.ImageFolder(root=fold_2_dir, transform=transform)\n",
    "\n",
    "# Concatenate datasets from all folds\n",
    "full_dataset = ConcatDataset([fold_0_dataset, fold_1_dataset, fold_2_dataset])\n"
   ]
  },
  {
   "cell_type": "code",
   "execution_count": 4,
   "id": "e5ebaa0b",
   "metadata": {
    "execution": {
     "iopub.execute_input": "2024-10-09T18:53:35.919955Z",
     "iopub.status.busy": "2024-10-09T18:53:35.919340Z",
     "iopub.status.idle": "2024-10-09T18:56:13.802713Z",
     "shell.execute_reply": "2024-10-09T18:56:13.801615Z"
    },
    "papermill": {
     "duration": 157.894949,
     "end_time": "2024-10-09T18:56:13.805742",
     "exception": false,
     "start_time": "2024-10-09T18:53:35.910793",
     "status": "completed"
    },
    "tags": []
   },
   "outputs": [],
   "source": [
    "# Define class names (assume fold_0_dataset is loaded before this step)\n",
    "class_names = fold_0_dataset.classes  # Assuming all folds have the same classes\n",
    "class_indices = {class_name: [] for class_name in class_names}\n",
    "\n",
    "# Separate indices by class\n",
    "for idx, (_, label) in enumerate(full_dataset):\n",
    "    class_name = class_names[label]\n",
    "    class_indices[class_name].append(idx)"
   ]
  },
  {
   "cell_type": "code",
   "execution_count": 5,
   "id": "15b0be50",
   "metadata": {
    "execution": {
     "iopub.execute_input": "2024-10-09T18:56:13.819958Z",
     "iopub.status.busy": "2024-10-09T18:56:13.818636Z",
     "iopub.status.idle": "2024-10-09T18:57:12.592807Z",
     "shell.execute_reply": "2024-10-09T18:57:12.591722Z"
    },
    "papermill": {
     "duration": 58.784085,
     "end_time": "2024-10-09T18:57:12.595738",
     "exception": false,
     "start_time": "2024-10-09T18:56:13.811653",
     "status": "completed"
    },
    "tags": []
   },
   "outputs": [],
   "source": [
    "def limit_dataset(dataset, max_train_samples=None, max_test_samples=None):\n",
    "    # Limit the number of train samples for each class\n",
    "    train_indices = []\n",
    "    if max_train_samples:\n",
    "        for class_name, max_samples in max_train_samples.items():\n",
    "            indices = class_indices[class_name]\n",
    "            max_samples_per_class = min(max_samples, len(indices))\n",
    "            selected_indices = random.sample(indices, max_samples_per_class)\n",
    "            train_indices.extend(selected_indices)\n",
    "    \n",
    "    # Remove train indices from class indices for the test set\n",
    "    for indices in train_indices:\n",
    "        class_name = class_names[dataset[indices][1]]\n",
    "        class_indices[class_name].remove(indices)\n",
    "    \n",
    "    test_indices = []\n",
    "    if max_test_samples:\n",
    "        # Randomly select the specified number of test samples from all available indices\n",
    "        all_test_indices = list(range(len(dataset)))  # Assuming you're selecting from the entire dataset\n",
    "        test_indices = random.sample(all_test_indices, min(max_test_samples, len(all_test_indices)))\n",
    "\n",
    "\n",
    "    return train_indices, test_indices\n",
    "\n",
    "# Define the maximum limits for train and test samples\n",
    "max_train_samples = {'all': 7000, 'hem': 3000}  # Max samples for 'all' and 'hem' in the train dataset\n",
    "max_test_samples = 2000  # Max total samples in the test dataset\n",
    "\n",
    "# Limit the dataset\n",
    "train_indices, test_indices = limit_dataset(full_dataset, max_train_samples=max_train_samples, max_test_samples=max_test_samples)\n",
    "\n",
    "# Create subsets for train and test\n",
    "train_dataset = torch.utils.data.Subset(full_dataset, train_indices)\n",
    "test_dataset = torch.utils.data.Subset(full_dataset, test_indices)"
   ]
  },
  {
   "cell_type": "code",
   "execution_count": 6,
   "id": "308b4cd9",
   "metadata": {
    "execution": {
     "iopub.execute_input": "2024-10-09T18:57:12.607437Z",
     "iopub.status.busy": "2024-10-09T18:57:12.607038Z",
     "iopub.status.idle": "2024-10-09T18:58:19.862835Z",
     "shell.execute_reply": "2024-10-09T18:58:19.861724Z"
    },
    "papermill": {
     "duration": 67.264708,
     "end_time": "2024-10-09T18:58:19.865474",
     "exception": false,
     "start_time": "2024-10-09T18:57:12.600766",
     "status": "completed"
    },
    "tags": []
   },
   "outputs": [
    {
     "name": "stdout",
     "output_type": "stream",
     "text": [
      "Number of data points in train loader: 10000\n",
      "Number of data points in test loader: 2000\n"
     ]
    },
    {
     "data": {
      "image/png": "[encoded data removed]",
      "text/plain": [
       "<Figure size 640x480 with 1 Axes>"
      ]
     },
     "metadata": {},
     "output_type": "display_data"
    },
    {
     "data": {
      "image/png": "[encoded data removed]",
      "text/plain": [
       "<Figure size 640x480 with 1 Axes>"
      ]
     },
     "metadata": {},
     "output_type": "display_data"
    }
   ],
   "source": [
    "# Data loaders for train and test datasets\n",
    "train_loader = DataLoader(train_dataset, batch_size=32, shuffle=True, num_workers=4)\n",
    "test_loader = DataLoader(test_dataset, batch_size=32, shuffle=False, num_workers=4)\n",
    "\n",
    "# Print the number of data points in train and test loaders\n",
    "print(f\"Number of data points in train loader: {len(train_dataset)}\")\n",
    "print(f\"Number of data points in test loader: {len(test_dataset)}\")\n",
    "\n",
    "# Function to get class distribution for a dataset\n",
    "def get_class_distribution(dataset):\n",
    "    class_counts = Counter()\n",
    "    for _, label in dataset:\n",
    "        class_counts[label] += 1\n",
    "    return class_counts\n",
    "\n",
    "# Get class distribution for train and test datasets\n",
    "train_class_distribution = get_class_distribution(train_dataset)\n",
    "test_class_distribution = get_class_distribution(test_dataset)\n",
    "\n",
    "# Plotting function\n",
    "def plot_class_distribution(class_distribution, title):\n",
    "    classes = list(class_distribution.keys())\n",
    "    counts = list(class_distribution.values())\n",
    "\n",
    "    plt.bar(classes, counts)\n",
    "    plt.xlabel('Class')\n",
    "    plt.ylabel('Count')\n",
    "    plt.title(title)\n",
    "    plt.xticks(classes, [class_names[i] for i in classes])\n",
    "    plt.show()\n",
    "\n",
    "# Plot class distributions\n",
    "plot_class_distribution(train_class_distribution, \"Final Train Dataset Class Distribution\")\n",
    "plot_class_distribution(test_class_distribution, \"Final Test Dataset Class Distribution\")"
   ]
  },
  {
   "cell_type": "code",
   "execution_count": 7,
   "id": "1ecf8dc0",
   "metadata": {
    "execution": {
     "iopub.execute_input": "2024-10-09T18:58:19.879495Z",
     "iopub.status.busy": "2024-10-09T18:58:19.878577Z",
     "iopub.status.idle": "2024-10-09T18:58:20.120371Z",
     "shell.execute_reply": "2024-10-09T18:58:20.119192Z"
    },
    "papermill": {
     "duration": 0.251735,
     "end_time": "2024-10-09T18:58:20.123153",
     "exception": false,
     "start_time": "2024-10-09T18:58:19.871418",
     "status": "completed"
    },
    "tags": []
   },
   "outputs": [
    {
     "data": {
      "text/plain": [
       "ResNet(\n",
       "  (conv1): Conv2d(3, 64, kernel_size=(7, 7), stride=(2, 2), padding=(3, 3), bias=False)\n",
       "  (bn1): BatchNorm2d(64, eps=1e-05, momentum=0.1, affine=True, track_running_stats=True)\n",
       "  (relu): ReLU(inplace=True)\n",
       "  (maxpool): MaxPool2d(kernel_size=3, stride=2, padding=1, dilation=1, ceil_mode=False)\n",
       "  (layer1): Sequential(\n",
       "    (0): BasicBlock(\n",
       "      (conv1): Conv2d(64, 64, kernel_size=(3, 3), stride=(1, 1), padding=(1, 1), bias=False)\n",
       "      (bn1): BatchNorm2d(64, eps=1e-05, momentum=0.1, affine=True, track_running_stats=True)\n",
       "      (relu): ReLU(inplace=True)\n",
       "      (conv2): Conv2d(64, 64, kernel_size=(3, 3), stride=(1, 1), padding=(1, 1), bias=False)\n",
       "      (bn2): BatchNorm2d(64, eps=1e-05, momentum=0.1, affine=True, track_running_stats=True)\n",
       "    )\n",
       "    (1): BasicBlock(\n",
       "      (conv1): Conv2d(64, 64, kernel_size=(3, 3), stride=(1, 1), padding=(1, 1), bias=False)\n",
       "      (bn1): BatchNorm2d(64, eps=1e-05, momentum=0.1, affine=True, track_running_stats=True)\n",
       "      (relu): ReLU(inplace=True)\n",
       "      (conv2): Conv2d(64, 64, kernel_size=(3, 3), stride=(1, 1), padding=(1, 1), bias=False)\n",
       "      (bn2): BatchNorm2d(64, eps=1e-05, momentum=0.1, affine=True, track_running_stats=True)\n",
       "    )\n",
       "  )\n",
       "  (layer2): Sequential(\n",
       "    (0): BasicBlock(\n",
       "      (conv1): Conv2d(64, 128, kernel_size=(3, 3), stride=(2, 2), padding=(1, 1), bias=False)\n",
       "      (bn1): BatchNorm2d(128, eps=1e-05, momentum=0.1, affine=True, track_running_stats=True)\n",
       "      (relu): ReLU(inplace=True)\n",
       "      (conv2): Conv2d(128, 128, kernel_size=(3, 3), stride=(1, 1), padding=(1, 1), bias=False)\n",
       "      (bn2): BatchNorm2d(128, eps=1e-05, momentum=0.1, affine=True, track_running_stats=True)\n",
       "      (downsample): Sequential(\n",
       "        (0): Conv2d(64, 128, kernel_size=(1, 1), stride=(2, 2), bias=False)\n",
       "        (1): BatchNorm2d(128, eps=1e-05, momentum=0.1, affine=True, track_running_stats=True)\n",
       "      )\n",
       "    )\n",
       "    (1): BasicBlock(\n",
       "      (conv1): Conv2d(128, 128, kernel_size=(3, 3), stride=(1, 1), padding=(1, 1), bias=False)\n",
       "      (bn1): BatchNorm2d(128, eps=1e-05, momentum=0.1, affine=True, track_running_stats=True)\n",
       "      (relu): ReLU(inplace=True)\n",
       "      (conv2): Conv2d(128, 128, kernel_size=(3, 3), stride=(1, 1), padding=(1, 1), bias=False)\n",
       "      (bn2): BatchNorm2d(128, eps=1e-05, momentum=0.1, affine=True, track_running_stats=True)\n",
       "    )\n",
       "  )\n",
       "  (layer3): Sequential(\n",
       "    (0): BasicBlock(\n",
       "      (conv1): Conv2d(128, 256, kernel_size=(3, 3), stride=(2, 2), padding=(1, 1), bias=False)\n",
       "      (bn1): BatchNorm2d(256, eps=1e-05, momentum=0.1, affine=True, track_running_stats=True)\n",
       "      (relu): ReLU(inplace=True)\n",
       "      (conv2): Conv2d(256, 256, kernel_size=(3, 3), stride=(1, 1), padding=(1, 1), bias=False)\n",
       "      (bn2): BatchNorm2d(256, eps=1e-05, momentum=0.1, affine=True, track_running_stats=True)\n",
       "      (downsample): Sequential(\n",
       "        (0): Conv2d(128, 256, kernel_size=(1, 1), stride=(2, 2), bias=False)\n",
       "        (1): BatchNorm2d(256, eps=1e-05, momentum=0.1, affine=True, track_running_stats=True)\n",
       "      )\n",
       "    )\n",
       "    (1): BasicBlock(\n",
       "      (conv1): Conv2d(256, 256, kernel_size=(3, 3), stride=(1, 1), padding=(1, 1), bias=False)\n",
       "      (bn1): BatchNorm2d(256, eps=1e-05, momentum=0.1, affine=True, track_running_stats=True)\n",
       "      (relu): ReLU(inplace=True)\n",
       "      (conv2): Conv2d(256, 256, kernel_size=(3, 3), stride=(1, 1), padding=(1, 1), bias=False)\n",
       "      (bn2): BatchNorm2d(256, eps=1e-05, momentum=0.1, affine=True, track_running_stats=True)\n",
       "    )\n",
       "  )\n",
       "  (layer4): Sequential(\n",
       "    (0): BasicBlock(\n",
       "      (conv1): Conv2d(256, 512, kernel_size=(3, 3), stride=(2, 2), padding=(1, 1), bias=False)\n",
       "      (bn1): BatchNorm2d(512, eps=1e-05, momentum=0.1, affine=True, track_running_stats=True)\n",
       "      (relu): ReLU(inplace=True)\n",
       "      (conv2): Conv2d(512, 512, kernel_size=(3, 3), stride=(1, 1), padding=(1, 1), bias=False)\n",
       "      (bn2): BatchNorm2d(512, eps=1e-05, momentum=0.1, affine=True, track_running_stats=True)\n",
       "      (downsample): Sequential(\n",
       "        (0): Conv2d(256, 512, kernel_size=(1, 1), stride=(2, 2), bias=False)\n",
       "        (1): BatchNorm2d(512, eps=1e-05, momentum=0.1, affine=True, track_running_stats=True)\n",
       "      )\n",
       "    )\n",
       "    (1): BasicBlock(\n",
       "      (conv1): Conv2d(512, 512, kernel_size=(3, 3), stride=(1, 1), padding=(1, 1), bias=False)\n",
       "      (bn1): BatchNorm2d(512, eps=1e-05, momentum=0.1, affine=True, track_running_stats=True)\n",
       "      (relu): ReLU(inplace=True)\n",
       "      (conv2): Conv2d(512, 512, kernel_size=(3, 3), stride=(1, 1), padding=(1, 1), bias=False)\n",
       "      (bn2): BatchNorm2d(512, eps=1e-05, momentum=0.1, affine=True, track_running_stats=True)\n",
       "    )\n",
       "  )\n",
       "  (avgpool): AdaptiveAvgPool2d(output_size=(1, 1))\n",
       "  (fc): Sequential(\n",
       "    (0): Linear(in_features=512, out_features=4, bias=True)\n",
       "    (1): Linear(in_features=4, out_features=2, bias=True)\n",
       "  )\n",
       ")"
      ]
     },
     "execution_count": 7,
     "metadata": {},
     "output_type": "execute_result"
    }
   ],
   "source": [
    "model = models.resnet18(weights=None)\n",
    "\n",
    "num_ftrs = model.fc.in_features\n",
    "model.fc = nn.Sequential(\n",
    "    torch.nn.Linear(num_ftrs, 4),\n",
    "    torch.nn.Linear(4, 2),\n",
    ")  # Assuming binary classification\n",
    "\n",
    "model"
   ]
  },
  {
   "cell_type": "code",
   "execution_count": 8,
   "id": "617917c1",
   "metadata": {
    "execution": {
     "iopub.execute_input": "2024-10-09T18:58:20.138689Z",
     "iopub.status.busy": "2024-10-09T18:58:20.137631Z",
     "iopub.status.idle": "2024-10-09T18:58:20.143965Z",
     "shell.execute_reply": "2024-10-09T18:58:20.142823Z"
    },
    "papermill": {
     "duration": 0.016397,
     "end_time": "2024-10-09T18:58:20.146352",
     "exception": false,
     "start_time": "2024-10-09T18:58:20.129955",
     "status": "completed"
    },
    "tags": []
   },
   "outputs": [],
   "source": [
    "Freeze = False\n",
    "if Freeze:\n",
    "    # Freeze the base model\n",
    "    for param in model.parameters():\n",
    "        param.requires_grad = False\n",
    "\n",
    "    # Only train the last fully connected layer\n",
    "    for param in model.fc.parameters():\n",
    "        param.requires_grad = True"
   ]
  },
  {
   "cell_type": "code",
   "execution_count": 9,
   "id": "08b7c586",
   "metadata": {
    "execution": {
     "iopub.execute_input": "2024-10-09T18:58:20.161293Z",
     "iopub.status.busy": "2024-10-09T18:58:20.160891Z",
     "iopub.status.idle": "2024-10-09T18:58:20.169518Z",
     "shell.execute_reply": "2024-10-09T18:58:20.168373Z"
    },
    "papermill": {
     "duration": 0.019163,
     "end_time": "2024-10-09T18:58:20.172046",
     "exception": false,
     "start_time": "2024-10-09T18:58:20.152883",
     "status": "completed"
    },
    "tags": []
   },
   "outputs": [],
   "source": [
    "criterion = torch.nn.CrossEntropyLoss()\n",
    "optimizer = torch.optim.Adam(model.parameters(), lr=0.0001)\n",
    "\n",
    "# Determine the device (CPU or GPU)\n",
    "device = torch.device(\"cuda\" if torch.cuda.is_available() else \"cpu\")\n",
    "\n",
    "train_losses = []\n",
    "val_losses = []\n",
    "train_accs = []\n",
    "val_accs = []"
   ]
  },
  {
   "cell_type": "code",
   "execution_count": 10,
   "id": "a5164927",
   "metadata": {
    "execution": {
     "iopub.execute_input": "2024-10-09T18:58:20.187994Z",
     "iopub.status.busy": "2024-10-09T18:58:20.187573Z",
     "iopub.status.idle": "2024-10-10T02:29:32.548346Z",
     "shell.execute_reply": "2024-10-10T02:29:32.546342Z"
    },
    "papermill": {
     "duration": 27072.372622,
     "end_time": "2024-10-10T02:29:32.551189",
     "exception": false,
     "start_time": "2024-10-09T18:58:20.178567",
     "status": "completed"
    },
    "tags": []
   },
   "outputs": [
    {
     "name": "stderr",
     "output_type": "stream",
     "text": [
      "Epoch 1/20 (Training): 100%|██████████| 313/313 [21:22<00:00,  4.10s/batch]\n"
     ]
    },
    {
     "name": "stdout",
     "output_type": "stream",
     "text": [
      "Epoch 1/20, Training Loss: 0.38376122870193885, Training Accuracy: 83.9%\n"
     ]
    },
    {
     "name": "stderr",
     "output_type": "stream",
     "text": [
      "Epoch 1/20 (Validation): 100%|██████████| 63/63 [01:29<00:00,  1.43s/batch]\n"
     ]
    },
    {
     "name": "stdout",
     "output_type": "stream",
     "text": [
      "Saving model...\n",
      "Epoch 1/20, Validation Loss: 1.117366848483918, Validation Accuracy: 67.95%\n"
     ]
    },
    {
     "name": "stderr",
     "output_type": "stream",
     "text": [
      "Epoch 2/20 (Training): 100%|██████████| 313/313 [20:57<00:00,  4.02s/batch]\n"
     ]
    },
    {
     "name": "stdout",
     "output_type": "stream",
     "text": [
      "Epoch 2/20, Training Loss: 0.3133089265551049, Training Accuracy: 87.68%\n"
     ]
    },
    {
     "name": "stderr",
     "output_type": "stream",
     "text": [
      "Epoch 2/20 (Validation): 100%|██████████| 63/63 [01:24<00:00,  1.34s/batch]\n"
     ]
    },
    {
     "name": "stdout",
     "output_type": "stream",
     "text": [
      "Saving model...\n",
      "Epoch 2/20, Validation Loss: 0.534695628616545, Validation Accuracy: 78.7%\n"
     ]
    },
    {
     "name": "stderr",
     "output_type": "stream",
     "text": [
      "Epoch 3/20 (Training): 100%|██████████| 313/313 [21:20<00:00,  4.09s/batch]\n"
     ]
    },
    {
     "name": "stdout",
     "output_type": "stream",
     "text": [
      "Epoch 3/20, Training Loss: 0.2909602868718842, Training Accuracy: 88.64%\n"
     ]
    },
    {
     "name": "stderr",
     "output_type": "stream",
     "text": [
      "Epoch 3/20 (Validation): 100%|██████████| 63/63 [01:32<00:00,  1.46s/batch]\n"
     ]
    },
    {
     "name": "stdout",
     "output_type": "stream",
     "text": [
      "Saving model...\n",
      "Epoch 3/20, Validation Loss: 0.34899995889928603, Validation Accuracy: 84.85%\n"
     ]
    },
    {
     "name": "stderr",
     "output_type": "stream",
     "text": [
      "Epoch 4/20 (Training): 100%|██████████| 313/313 [20:53<00:00,  4.00s/batch]\n"
     ]
    },
    {
     "name": "stdout",
     "output_type": "stream",
     "text": [
      "Epoch 4/20, Training Loss: 0.26568028573601393, Training Accuracy: 89.5%\n"
     ]
    },
    {
     "name": "stderr",
     "output_type": "stream",
     "text": [
      "Epoch 4/20 (Validation): 100%|██████████| 63/63 [01:22<00:00,  1.30s/batch]\n"
     ]
    },
    {
     "name": "stdout",
     "output_type": "stream",
     "text": [
      "Epoch 4/20, Validation Loss: 0.4123491739469861, Validation Accuracy: 82.05%\n"
     ]
    },
    {
     "name": "stderr",
     "output_type": "stream",
     "text": [
      "Epoch 5/20 (Training): 100%|██████████| 313/313 [20:54<00:00,  4.01s/batch]\n"
     ]
    },
    {
     "name": "stdout",
     "output_type": "stream",
     "text": [
      "Epoch 5/20, Training Loss: 0.23001736957139482, Training Accuracy: 90.99%\n"
     ]
    },
    {
     "name": "stderr",
     "output_type": "stream",
     "text": [
      "Epoch 5/20 (Validation): 100%|██████████| 63/63 [01:31<00:00,  1.46s/batch]\n"
     ]
    },
    {
     "name": "stdout",
     "output_type": "stream",
     "text": [
      "Saving model...\n",
      "Epoch 5/20, Validation Loss: 0.32303347527271226, Validation Accuracy: 88.5%\n"
     ]
    },
    {
     "name": "stderr",
     "output_type": "stream",
     "text": [
      "Epoch 6/20 (Training): 100%|██████████| 313/313 [21:05<00:00,  4.04s/batch]\n"
     ]
    },
    {
     "name": "stdout",
     "output_type": "stream",
     "text": [
      "Epoch 6/20, Training Loss: 0.19373646964685035, Training Accuracy: 92.57%\n"
     ]
    },
    {
     "name": "stderr",
     "output_type": "stream",
     "text": [
      "Epoch 6/20 (Validation): 100%|██████████| 63/63 [01:32<00:00,  1.47s/batch]\n"
     ]
    },
    {
     "name": "stdout",
     "output_type": "stream",
     "text": [
      "Saving model...\n",
      "Epoch 6/20, Validation Loss: 0.1803961514776188, Validation Accuracy: 92.85%\n"
     ]
    },
    {
     "name": "stderr",
     "output_type": "stream",
     "text": [
      "Epoch 7/20 (Training): 100%|██████████| 313/313 [20:49<00:00,  3.99s/batch]\n"
     ]
    },
    {
     "name": "stdout",
     "output_type": "stream",
     "text": [
      "Epoch 7/20, Training Loss: 0.16251306803510213, Training Accuracy: 93.7%\n"
     ]
    },
    {
     "name": "stderr",
     "output_type": "stream",
     "text": [
      "Epoch 7/20 (Validation): 100%|██████████| 63/63 [01:25<00:00,  1.35s/batch]\n"
     ]
    },
    {
     "name": "stdout",
     "output_type": "stream",
     "text": [
      "Epoch 7/20, Validation Loss: 1.4975599362736656, Validation Accuracy: 53.1%\n"
     ]
    },
    {
     "name": "stderr",
     "output_type": "stream",
     "text": [
      "Epoch 8/20 (Training): 100%|██████████| 313/313 [20:58<00:00,  4.02s/batch]\n"
     ]
    },
    {
     "name": "stdout",
     "output_type": "stream",
     "text": [
      "Epoch 8/20, Training Loss: 0.13276030576100556, Training Accuracy: 95.04%\n"
     ]
    },
    {
     "name": "stderr",
     "output_type": "stream",
     "text": [
      "Epoch 8/20 (Validation): 100%|██████████| 63/63 [01:31<00:00,  1.46s/batch]\n"
     ]
    },
    {
     "name": "stdout",
     "output_type": "stream",
     "text": [
      "Epoch 8/20, Validation Loss: 0.9514770129370311, Validation Accuracy: 70.55%\n"
     ]
    },
    {
     "name": "stderr",
     "output_type": "stream",
     "text": [
      "Epoch 9/20 (Training): 100%|██████████| 313/313 [21:02<00:00,  4.03s/batch]\n"
     ]
    },
    {
     "name": "stdout",
     "output_type": "stream",
     "text": [
      "Epoch 9/20, Training Loss: 0.1009834162272013, Training Accuracy: 96.19%\n"
     ]
    },
    {
     "name": "stderr",
     "output_type": "stream",
     "text": [
      "Epoch 9/20 (Validation): 100%|██████████| 63/63 [01:22<00:00,  1.31s/batch]\n"
     ]
    },
    {
     "name": "stdout",
     "output_type": "stream",
     "text": [
      "Saving model...\n",
      "Epoch 9/20, Validation Loss: 0.17374775801149625, Validation Accuracy: 93.7%\n"
     ]
    },
    {
     "name": "stderr",
     "output_type": "stream",
     "text": [
      "Epoch 10/20 (Training): 100%|██████████| 313/313 [21:01<00:00,  4.03s/batch]\n"
     ]
    },
    {
     "name": "stdout",
     "output_type": "stream",
     "text": [
      "Epoch 10/20, Training Loss: 0.07894915098788592, Training Accuracy: 96.89%\n"
     ]
    },
    {
     "name": "stderr",
     "output_type": "stream",
     "text": [
      "Epoch 10/20 (Validation): 100%|██████████| 63/63 [01:32<00:00,  1.47s/batch]\n"
     ]
    },
    {
     "name": "stdout",
     "output_type": "stream",
     "text": [
      "Epoch 10/20, Validation Loss: 1.2064908189432961, Validation Accuracy: 75.9%\n"
     ]
    },
    {
     "name": "stderr",
     "output_type": "stream",
     "text": [
      "Epoch 11/20 (Training): 100%|██████████| 313/313 [21:00<00:00,  4.03s/batch]\n"
     ]
    },
    {
     "name": "stdout",
     "output_type": "stream",
     "text": [
      "Epoch 11/20, Training Loss: 0.06154365201864522, Training Accuracy: 97.73%\n"
     ]
    },
    {
     "name": "stderr",
     "output_type": "stream",
     "text": [
      "Epoch 11/20 (Validation): 100%|██████████| 63/63 [01:32<00:00,  1.46s/batch]\n"
     ]
    },
    {
     "name": "stdout",
     "output_type": "stream",
     "text": [
      "Epoch 11/20, Validation Loss: 1.6262958343066867, Validation Accuracy: 62.75%\n"
     ]
    },
    {
     "name": "stderr",
     "output_type": "stream",
     "text": [
      "Epoch 12/20 (Training): 100%|██████████| 313/313 [21:07<00:00,  4.05s/batch]\n"
     ]
    },
    {
     "name": "stdout",
     "output_type": "stream",
     "text": [
      "Epoch 12/20, Training Loss: 0.0604632851606705, Training Accuracy: 97.72%\n"
     ]
    },
    {
     "name": "stderr",
     "output_type": "stream",
     "text": [
      "Epoch 12/20 (Validation): 100%|██████████| 63/63 [01:31<00:00,  1.46s/batch]\n"
     ]
    },
    {
     "name": "stdout",
     "output_type": "stream",
     "text": [
      "Epoch 12/20, Validation Loss: 0.3470265432482674, Validation Accuracy: 86.95%\n"
     ]
    },
    {
     "name": "stderr",
     "output_type": "stream",
     "text": [
      "Epoch 13/20 (Training): 100%|██████████| 313/313 [21:07<00:00,  4.05s/batch]\n"
     ]
    },
    {
     "name": "stdout",
     "output_type": "stream",
     "text": [
      "Epoch 13/20, Training Loss: 0.04240521923832286, Training Accuracy: 98.43%\n"
     ]
    },
    {
     "name": "stderr",
     "output_type": "stream",
     "text": [
      "Epoch 13/20 (Validation): 100%|██████████| 63/63 [01:22<00:00,  1.31s/batch]\n"
     ]
    },
    {
     "name": "stdout",
     "output_type": "stream",
     "text": [
      "Saving model...\n",
      "Epoch 13/20, Validation Loss: 0.17195128857172906, Validation Accuracy: 94.9%\n"
     ]
    },
    {
     "name": "stderr",
     "output_type": "stream",
     "text": [
      "Epoch 14/20 (Training): 100%|██████████| 313/313 [21:04<00:00,  4.04s/batch]\n"
     ]
    },
    {
     "name": "stdout",
     "output_type": "stream",
     "text": [
      "Epoch 14/20, Training Loss: 0.04868667452118565, Training Accuracy: 98.24%\n"
     ]
    },
    {
     "name": "stderr",
     "output_type": "stream",
     "text": [
      "Epoch 14/20 (Validation): 100%|██████████| 63/63 [01:32<00:00,  1.47s/batch]\n"
     ]
    },
    {
     "name": "stdout",
     "output_type": "stream",
     "text": [
      "Epoch 14/20, Validation Loss: 1.1393084880851565, Validation Accuracy: 70.05%\n"
     ]
    },
    {
     "name": "stderr",
     "output_type": "stream",
     "text": [
      "Epoch 15/20 (Training): 100%|██████████| 313/313 [21:04<00:00,  4.04s/batch]\n"
     ]
    },
    {
     "name": "stdout",
     "output_type": "stream",
     "text": [
      "Epoch 15/20, Training Loss: 0.03980431293126958, Training Accuracy: 98.5%\n"
     ]
    },
    {
     "name": "stderr",
     "output_type": "stream",
     "text": [
      "Epoch 15/20 (Validation): 100%|██████████| 63/63 [01:32<00:00,  1.47s/batch]\n"
     ]
    },
    {
     "name": "stdout",
     "output_type": "stream",
     "text": [
      "Saving model...\n",
      "Epoch 15/20, Validation Loss: 0.07066140765978378, Validation Accuracy: 98.05%\n"
     ]
    },
    {
     "name": "stderr",
     "output_type": "stream",
     "text": [
      "Epoch 16/20 (Training): 100%|██████████| 313/313 [21:04<00:00,  4.04s/batch]\n"
     ]
    },
    {
     "name": "stdout",
     "output_type": "stream",
     "text": [
      "Epoch 16/20, Training Loss: 0.04350734383207017, Training Accuracy: 98.32%\n"
     ]
    },
    {
     "name": "stderr",
     "output_type": "stream",
     "text": [
      "Epoch 16/20 (Validation): 100%|██████████| 63/63 [01:32<00:00,  1.46s/batch]\n"
     ]
    },
    {
     "name": "stdout",
     "output_type": "stream",
     "text": [
      "Epoch 16/20, Validation Loss: 0.3110908791422844, Validation Accuracy: 89.15%\n"
     ]
    },
    {
     "name": "stderr",
     "output_type": "stream",
     "text": [
      "Epoch 17/20 (Training): 100%|██████████| 313/313 [21:03<00:00,  4.04s/batch]\n"
     ]
    },
    {
     "name": "stdout",
     "output_type": "stream",
     "text": [
      "Epoch 17/20, Training Loss: 0.03013782804605355, Training Accuracy: 98.86%\n"
     ]
    },
    {
     "name": "stderr",
     "output_type": "stream",
     "text": [
      "Epoch 17/20 (Validation): 100%|██████████| 63/63 [01:32<00:00,  1.47s/batch]\n"
     ]
    },
    {
     "name": "stdout",
     "output_type": "stream",
     "text": [
      "Epoch 17/20, Validation Loss: 2.7140988622392928, Validation Accuracy: 59.0%\n"
     ]
    },
    {
     "name": "stderr",
     "output_type": "stream",
     "text": [
      "Epoch 18/20 (Training): 100%|██████████| 313/313 [21:06<00:00,  4.05s/batch]\n"
     ]
    },
    {
     "name": "stdout",
     "output_type": "stream",
     "text": [
      "Epoch 18/20, Training Loss: 0.030982666235845224, Training Accuracy: 98.8%\n"
     ]
    },
    {
     "name": "stderr",
     "output_type": "stream",
     "text": [
      "Epoch 18/20 (Validation): 100%|██████████| 63/63 [01:23<00:00,  1.32s/batch]\n"
     ]
    },
    {
     "name": "stdout",
     "output_type": "stream",
     "text": [
      "Epoch 18/20, Validation Loss: 1.8443058265580072, Validation Accuracy: 74.3%\n"
     ]
    },
    {
     "name": "stderr",
     "output_type": "stream",
     "text": [
      "Epoch 19/20 (Training): 100%|██████████| 313/313 [21:06<00:00,  4.05s/batch]\n"
     ]
    },
    {
     "name": "stdout",
     "output_type": "stream",
     "text": [
      "Epoch 19/20, Training Loss: 0.03529285036852009, Training Accuracy: 98.64%\n"
     ]
    },
    {
     "name": "stderr",
     "output_type": "stream",
     "text": [
      "Epoch 19/20 (Validation): 100%|██████████| 63/63 [01:32<00:00,  1.47s/batch]\n"
     ]
    },
    {
     "name": "stdout",
     "output_type": "stream",
     "text": [
      "Epoch 19/20, Validation Loss: 0.9915261490950509, Validation Accuracy: 76.75%\n"
     ]
    },
    {
     "name": "stderr",
     "output_type": "stream",
     "text": [
      "Epoch 20/20 (Training): 100%|██████████| 313/313 [21:10<00:00,  4.06s/batch]\n"
     ]
    },
    {
     "name": "stdout",
     "output_type": "stream",
     "text": [
      "Epoch 20/20, Training Loss: 0.01485779547192433, Training Accuracy: 99.49%\n"
     ]
    },
    {
     "name": "stderr",
     "output_type": "stream",
     "text": [
      "Epoch 20/20 (Validation): 100%|██████████| 63/63 [01:31<00:00,  1.46s/batch]"
     ]
    },
    {
     "name": "stdout",
     "output_type": "stream",
     "text": [
      "Epoch 20/20, Validation Loss: 0.31915981045347597, Validation Accuracy: 90.65%\n"
     ]
    },
    {
     "name": "stderr",
     "output_type": "stream",
     "text": [
      "\n"
     ]
    }
   ],
   "source": [
    "num_epochs = 20\n",
    "best_loss = 1000\n",
    "\n",
    "for epoch in range(num_epochs):\n",
    "    model.to(device)  # Move the model to the device\n",
    "    model.train()\n",
    "    running_loss = 0.0\n",
    "    correct = 0\n",
    "    total = 0\n",
    "    for inputs, labels in tqdm.tqdm(train_loader, desc=f\"Epoch {epoch+1}/{num_epochs} (Training)\", unit=\"batch\"):\n",
    "        inputs, labels = inputs.to(device), labels.to(device)  # Move the data to the device\n",
    "        optimizer.zero_grad()\n",
    "        outputs = model(inputs)\n",
    "        loss = criterion(outputs, labels)\n",
    "        loss.backward()\n",
    "        optimizer.step()\n",
    "        running_loss += loss.item()\n",
    "        _, predicted = torch.max(outputs.data, 1)\n",
    "        total += labels.size(0)\n",
    "        correct += (predicted == labels).sum().item()\n",
    "    train_loss = running_loss / len(train_loader)\n",
    "    train_losses.append(train_loss)\n",
    "    train_acc = 100 * correct / total\n",
    "    train_accs.append(train_acc)\n",
    "    print(f'Epoch {epoch+1}/{num_epochs}, Training Loss: {train_loss}, Training Accuracy: {train_acc}%')\n",
    "\n",
    "    model.eval()\n",
    "    val_loss = 0.0\n",
    "    correct = 0\n",
    "    total = 0\n",
    "    with torch.no_grad():\n",
    "        for inputs, labels in tqdm.tqdm(test_loader, desc=f\"Epoch {epoch+1}/{num_epochs} (Validation)\", unit=\"batch\"):\n",
    "            inputs, labels = inputs.to(device), labels.to(device)  # Move the data to the device\n",
    "            outputs = model(inputs)\n",
    "            loss = criterion(outputs, labels)\n",
    "            val_loss += loss.item()\n",
    "            _, predicted = torch.max(outputs.data, 1)\n",
    "            total += labels.size(0)\n",
    "            correct += (predicted == labels).sum().item()\n",
    "    val_loss /= len(test_loader)\n",
    "    val_losses.append(val_loss)\n",
    "    val_acc = 100 * correct / total\n",
    "    val_accs.append(val_acc)\n",
    "    \n",
    "    if val_loss < best_loss:\n",
    "        print(\"Saving model...\")\n",
    "        torch.save(model.state_dict(), 'model.pth')\n",
    "        best_loss = val_loss\n",
    "\n",
    "    print(f'Epoch {epoch+1}/{num_epochs}, Validation Loss: {val_loss}, Validation Accuracy: {val_acc}%')\n",
    "torch.save(model.state_dict(), 'model_last.pth')"
   ]
  },
  {
   "cell_type": "code",
   "execution_count": 11,
   "id": "fa3af952",
   "metadata": {
    "execution": {
     "iopub.execute_input": "2024-10-10T02:29:34.077323Z",
     "iopub.status.busy": "2024-10-10T02:29:34.076787Z",
     "iopub.status.idle": "2024-10-10T02:29:34.859658Z",
     "shell.execute_reply": "2024-10-10T02:29:34.858355Z"
    },
    "papermill": {
     "duration": 1.523166,
     "end_time": "2024-10-10T02:29:34.864327",
     "exception": false,
     "start_time": "2024-10-10T02:29:33.341161",
     "status": "completed"
    },
    "tags": []
   },
   "outputs": [
    {
     "data": {
      "image/png": "[encoded data removed]",
      "text/plain": [
       "<Figure size 1200x600 with 2 Axes>"
      ]
     },
     "metadata": {},
     "output_type": "display_data"
    }
   ],
   "source": [
    "## Plotting the Losses and Accuracies\n",
    "plt.figure(figsize=(12, 6))\n",
    "\n",
    "# Losses\n",
    "plt.subplot(1, 2, 1)\n",
    "plt.plot(train_losses, label='Training Loss')\n",
    "plt.plot(val_losses, label='Validation Loss')\n",
    "plt.xlabel('Epoch')\n",
    "plt.ylabel('Loss')\n",
    "plt.title('Training and Validation Losses')\n",
    "plt.legend()\n",
    "\n",
    "# Accuracies\n",
    "plt.subplot(1, 2, 2)\n",
    "plt.plot(train_accs, label='Training Accuracy', color='green')\n",
    "plt.plot(val_accs, label='Validation Accuracy', color='black')\n",
    "plt.xlabel('Epoch')\n",
    "plt.ylabel('Accuracy (%)')\n",
    "plt.title('Training and Validation Accuracies')\n",
    "plt.legend()\n",
    "\n",
    "\n",
    "plt.tight_layout()\n",
    "plt.show()"
   ]
  },
  {
   "cell_type": "code",
   "execution_count": 12,
   "id": "27af9b25",
   "metadata": {
    "execution": {
     "iopub.execute_input": "2024-10-10T02:29:36.464721Z",
     "iopub.status.busy": "2024-10-10T02:29:36.463559Z",
     "iopub.status.idle": "2024-10-10T02:29:36.576040Z",
     "shell.execute_reply": "2024-10-10T02:29:36.574735Z"
    },
    "papermill": {
     "duration": 0.950885,
     "end_time": "2024-10-10T02:29:36.580404",
     "exception": false,
     "start_time": "2024-10-10T02:29:35.629519",
     "status": "completed"
    },
    "tags": []
   },
   "outputs": [
    {
     "name": "stderr",
     "output_type": "stream",
     "text": [
      "/tmp/ipykernel_17/1134339847.py:3: FutureWarning: You are using `torch.load` with `weights_only=False` (the current default value), which uses the default pickle module implicitly. It is possible to construct malicious pickle data which will execute arbitrary code during unpickling (See https://github.com/pytorch/pytorch/blob/main/SECURITY.md#untrusted-models for more details). In a future release, the default value for `weights_only` will be flipped to `True`. This limits the functions that could be executed during unpickling. Arbitrary objects will no longer be allowed to be loaded via this mode unless they are explicitly allowlisted by the user via `torch.serialization.add_safe_globals`. We recommend you start setting `weights_only=True` for any use case where you don't have full control of the loaded file. Please open an issue on GitHub for any issues related to this experimental feature.\n",
      "  model.load_state_dict(torch.load(model_path))\n"
     ]
    },
    {
     "data": {
      "text/plain": [
       "<All keys matched successfully>"
      ]
     },
     "execution_count": 12,
     "metadata": {},
     "output_type": "execute_result"
    }
   ],
   "source": [
    "# Load the saved model weights\n",
    "model_path = '/kaggle/working/model.pth'\n",
    "model.load_state_dict(torch.load(model_path))"
   ]
  },
  {
   "cell_type": "code",
   "execution_count": 13,
   "id": "96541a16",
   "metadata": {
    "execution": {
     "iopub.execute_input": "2024-10-10T02:29:38.110257Z",
     "iopub.status.busy": "2024-10-10T02:29:38.109756Z",
     "iopub.status.idle": "2024-10-10T02:31:08.994268Z",
     "shell.execute_reply": "2024-10-10T02:31:08.992884Z"
    },
    "papermill": {
     "duration": 92.420041,
     "end_time": "2024-10-10T02:31:09.730785",
     "exception": false,
     "start_time": "2024-10-10T02:29:37.310744",
     "status": "completed"
    },
    "tags": []
   },
   "outputs": [
    {
     "name": "stdout",
     "output_type": "stream",
     "text": [
      "Confusion Matrix:\n",
      "[[1344    5]\n",
      " [  34  617]]\n",
      "Accuracy: 98.05%\n",
      "Precision: 0.9807412053911023\n",
      "Recall: 0.9805\n",
      "F1 Score: 0.9803815722499194\n",
      "Sensitivity: 0.9477726574500768\n",
      "Specificity: 0.9962935507783544\n",
      "Error Rate: 0.019500000000000073\n",
      "Computational Time: 90.85 seconds\n"
     ]
    }
   ],
   "source": [
    "import torch\n",
    "from sklearn.metrics import precision_score, recall_score, f1_score, confusion_matrix\n",
    "import numpy as np\n",
    "import time\n",
    "\n",
    "# Set the model to evaluation mode\n",
    "model.eval()\n",
    "\n",
    "# Initialize variables for metrics\n",
    "correct = 0\n",
    "total = 0\n",
    "all_labels = []\n",
    "all_predictions = []\n",
    "\n",
    "# Start time\n",
    "start_time = time.time()\n",
    "\n",
    "# No gradient calculation needed for evaluation\n",
    "with torch.no_grad():\n",
    "    for inputs, labels in test_loader:  # Use test_loader for evaluation\n",
    "        outputs = model(inputs.to(device))\n",
    "        _, predicted = torch.max(outputs.data.to('cpu'), 1)\n",
    "        \n",
    "        # Update correct and total counts\n",
    "        total += labels.size(0)\n",
    "        correct += (predicted == labels).sum().item()\n",
    "        \n",
    "        # Collect all labels and predictions for further metrics\n",
    "        all_labels.extend(labels.cpu().numpy())\n",
    "        all_predictions.extend(predicted.cpu().numpy())\n",
    "\n",
    "# End time\n",
    "end_time = time.time()\n",
    "computational_time = end_time - start_time\n",
    "\n",
    "# Accuracy\n",
    "accuracy = 100 * correct / total\n",
    "\n",
    "# Convert lists to numpy arrays\n",
    "all_labels = np.array(all_labels)\n",
    "all_predictions = np.array(all_predictions)\n",
    "\n",
    "# Precision, Recall, F1 Score\n",
    "precision = precision_score(all_labels, all_predictions, average='weighted', zero_division=0)\n",
    "recall = recall_score(all_labels, all_predictions, average='weighted', zero_division=0)\n",
    "f1 = f1_score(all_labels, all_predictions, average='weighted', zero_division=0)\n",
    "\n",
    "# Confusion Matrix\n",
    "conf_matrix = confusion_matrix(all_labels, all_predictions)\n",
    "\n",
    "# For multi-class classification, handle the confusion matrix appropriately\n",
    "# Print the confusion matrix\n",
    "print('Confusion Matrix:')\n",
    "print(conf_matrix)\n",
    "\n",
    "# For binary classification, get true positives, false positives, etc.\n",
    "if conf_matrix.shape == (2, 2):\n",
    "    tn, fp, fn, tp = conf_matrix.ravel()  # Confusion matrix for binary classification\n",
    "    sensitivity = tp / (tp + fn)  # True Positive Rate (Recall)\n",
    "    specificity = tn / (tn + fp)  # True Negative Rate\n",
    "else:\n",
    "    # For multi-class classification, you might need to calculate metrics differently\n",
    "    sensitivity = None\n",
    "    specificity = None\n",
    "\n",
    "# Error Rate\n",
    "error_rate = 1 - accuracy / 100\n",
    "\n",
    "# Print Metrics\n",
    "print(f'Accuracy: {accuracy}%')\n",
    "print(f'Precision: {precision}')\n",
    "print(f'Recall: {recall}')\n",
    "print(f'F1 Score: {f1}')\n",
    "if sensitivity is not None and specificity is not None:\n",
    "    print(f'Sensitivity: {sensitivity}')\n",
    "    print(f'Specificity: {specificity}')\n",
    "print(f'Error Rate: {error_rate}')\n",
    "print(f'Computational Time: {computational_time:.2f} seconds')"
   ]
  }
 ],
 "metadata": {
  "kaggle": {
   "accelerator": "none",
   "dataSources": [
    {
     "datasetId": 849724,
     "sourceId": 1449674,
     "sourceType": "datasetVersion"
    }
   ],
   "dockerImageVersionId": 30786,
   "isGpuEnabled": false,
   "isInternetEnabled": false,
   "language": "python",
   "sourceType": "notebook"
  },
  "kernelspec": {
   "display_name": "Python 3",
   "language": "python",
   "name": "python3"
  },
  "language_info": {
   "codemirror_mode": {
    "name": "ipython",
    "version": 3
   },
   "file_extension": ".py",
   "mimetype": "text/x-python",
   "name": "python",
   "nbconvert_exporter": "python",
   "pygments_lexer": "ipython3",
   "version": "3.10.14"
  },
  "papermill": {
   "default_parameters": {},
   "duration": 27474.920979,
   "end_time": "2024-10-10T02:31:12.292858",
   "environment_variables": {},
   "exception": null,
   "input_path": "__notebook__.ipynb",
   "output_path": "__notebook__.ipynb",
   "parameters": {},
   "start_time": "2024-10-09T18:53:17.371879",
   "version": "2.6.0"
  }
 },
 "nbformat": 4,
 "nbformat_minor": 5
}
